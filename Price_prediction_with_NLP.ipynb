{
 "cells": [
  {
   "cell_type": "markdown",
   "metadata": {},
   "source": [
    "# MERCARI PRICE SUGGESTION CHALLENGE "
   ]
  },
  {
   "cell_type": "code",
   "execution_count": null,
   "metadata": {},
   "outputs": [],
   "source": [
    "# Mercari is a Japanese retailer, an online two-sided marketplace that allows sellers to easily sell, ship, and earn money for used items.\n",
    "# Mercari would like to offer pricing suggestions to sellers, but this is tough because sellers are enabled to put just about anything,\n",
    "# on Mercari's marketplace. The idea is to build a model that automatically suggests the right product prices based on attributes.\n",
    "# The objective is to gain a better understanding of price influencers for used products.\n"
   ]
  },
  {
   "cell_type": "code",
   "execution_count": null,
   "metadata": {},
   "outputs": [],
   "source": [
    "import pandas as pd\n",
    "train = pd.read_csv(\"mercari_train_new.csv\")\n",
    "test = pd.read_csv(\"mercari_test_new.csv\")\n",
    "test=test.drop(\"price\",axis=1)\n",
    "train_copy=train.copy()"
   ]
  },
  {
   "cell_type": "code",
   "execution_count": 2,
   "metadata": {},
   "outputs": [
    {
     "name": "stdout",
     "output_type": "stream",
     "text": [
      "60000\n",
      "60000\n"
     ]
    }
   ],
   "source": [
    "# check the length of data\n",
    "print(train.shape[0])\n",
    "print(test.shape[0])"
   ]
  },
  {
   "cell_type": "code",
   "execution_count": 3,
   "metadata": {},
   "outputs": [
    {
     "data": {
      "text/html": [
       "<div>\n",
       "<style scoped>\n",
       "    .dataframe tbody tr th:only-of-type {\n",
       "        vertical-align: middle;\n",
       "    }\n",
       "\n",
       "    .dataframe tbody tr th {\n",
       "        vertical-align: top;\n",
       "    }\n",
       "\n",
       "    .dataframe thead th {\n",
       "        text-align: right;\n",
       "    }\n",
       "</style>\n",
       "<table border=\"1\" class=\"dataframe\">\n",
       "  <thead>\n",
       "    <tr style=\"text-align: right;\">\n",
       "      <th></th>\n",
       "      <th>test_id</th>\n",
       "      <th>name</th>\n",
       "      <th>item_condition_id</th>\n",
       "      <th>category_name</th>\n",
       "      <th>brand_name</th>\n",
       "      <th>shipping</th>\n",
       "      <th>item_description</th>\n",
       "    </tr>\n",
       "  </thead>\n",
       "  <tbody>\n",
       "    <tr>\n",
       "      <th>0</th>\n",
       "      <td>1</td>\n",
       "      <td>Small Workout Set Leggins Tights Crop</td>\n",
       "      <td>2</td>\n",
       "      <td>Women/Athletic Apparel/Pants, Tights, Leggings</td>\n",
       "      <td>NaN</td>\n",
       "      <td>0</td>\n",
       "      <td>This listing is for a small workout set: - one...</td>\n",
       "    </tr>\n",
       "    <tr>\n",
       "      <th>1</th>\n",
       "      <td>2</td>\n",
       "      <td>Lululemon Athletica Tank Size S</td>\n",
       "      <td>3</td>\n",
       "      <td>Women/Tops &amp; Blouses/Tank, Cami</td>\n",
       "      <td>Lululemon</td>\n",
       "      <td>0</td>\n",
       "      <td>Lululemon Athletica Tank Size S</td>\n",
       "    </tr>\n",
       "    <tr>\n",
       "      <th>2</th>\n",
       "      <td>3</td>\n",
       "      <td>New flashcards</td>\n",
       "      <td>1</td>\n",
       "      <td>Other/Books/Education &amp; Teaching</td>\n",
       "      <td>NaN</td>\n",
       "      <td>0</td>\n",
       "      <td>Brand new in package. Multiplication and divis...</td>\n",
       "    </tr>\n",
       "    <tr>\n",
       "      <th>3</th>\n",
       "      <td>4</td>\n",
       "      <td>3 pairs of 4T Disney pjs</td>\n",
       "      <td>3</td>\n",
       "      <td>Kids/Girls 2T-5T/Other</td>\n",
       "      <td>Disney</td>\n",
       "      <td>0</td>\n",
       "      <td>3 pairs of size 4T Disney 2 piece pajamas. Sof...</td>\n",
       "    </tr>\n",
       "    <tr>\n",
       "      <th>4</th>\n",
       "      <td>5</td>\n",
       "      <td>20 piece lashes</td>\n",
       "      <td>1</td>\n",
       "      <td>Beauty/Makeup/Eyes</td>\n",
       "      <td>NaN</td>\n",
       "      <td>1</td>\n",
       "      <td>Total of 20 piece lashes 10 long dramatic lash...</td>\n",
       "    </tr>\n",
       "  </tbody>\n",
       "</table>\n",
       "</div>"
      ],
      "text/plain": [
       "   test_id                                   name  item_condition_id  \\\n",
       "0        1  Small Workout Set Leggins Tights Crop                  2   \n",
       "1        2        Lululemon Athletica Tank Size S                  3   \n",
       "2        3                         New flashcards                  1   \n",
       "3        4               3 pairs of 4T Disney pjs                  3   \n",
       "4        5                        20 piece lashes                  1   \n",
       "\n",
       "                                    category_name brand_name  shipping  \\\n",
       "0  Women/Athletic Apparel/Pants, Tights, Leggings        NaN         0   \n",
       "1                 Women/Tops & Blouses/Tank, Cami  Lululemon         0   \n",
       "2                Other/Books/Education & Teaching        NaN         0   \n",
       "3                          Kids/Girls 2T-5T/Other     Disney         0   \n",
       "4                              Beauty/Makeup/Eyes        NaN         1   \n",
       "\n",
       "                                    item_description  \n",
       "0  This listing is for a small workout set: - one...  \n",
       "1                    Lululemon Athletica Tank Size S  \n",
       "2  Brand new in package. Multiplication and divis...  \n",
       "3  3 pairs of size 4T Disney 2 piece pajamas. Sof...  \n",
       "4  Total of 20 piece lashes 10 long dramatic lash...  "
      ]
     },
     "execution_count": 3,
     "metadata": {},
     "output_type": "execute_result"
    }
   ],
   "source": [
    "test.head()"
   ]
  },
  {
   "cell_type": "code",
   "execution_count": 4,
   "metadata": {},
   "outputs": [
    {
     "data": {
      "text/html": [
       "<div>\n",
       "<style scoped>\n",
       "    .dataframe tbody tr th:only-of-type {\n",
       "        vertical-align: middle;\n",
       "    }\n",
       "\n",
       "    .dataframe tbody tr th {\n",
       "        vertical-align: top;\n",
       "    }\n",
       "\n",
       "    .dataframe thead th {\n",
       "        text-align: right;\n",
       "    }\n",
       "</style>\n",
       "<table border=\"1\" class=\"dataframe\">\n",
       "  <thead>\n",
       "    <tr style=\"text-align: right;\">\n",
       "      <th></th>\n",
       "      <th>train_id</th>\n",
       "      <th>name</th>\n",
       "      <th>item_condition_id</th>\n",
       "      <th>category_name</th>\n",
       "      <th>brand_name</th>\n",
       "      <th>price</th>\n",
       "      <th>shipping</th>\n",
       "      <th>item_description</th>\n",
       "    </tr>\n",
       "  </thead>\n",
       "  <tbody>\n",
       "    <tr>\n",
       "      <th>0</th>\n",
       "      <td>1</td>\n",
       "      <td>Razer BlackWidow Chroma Keyboard</td>\n",
       "      <td>3</td>\n",
       "      <td>Electronics/Computers &amp; Tablets/Components &amp; P...</td>\n",
       "      <td>Razer</td>\n",
       "      <td>52.0</td>\n",
       "      <td>0</td>\n",
       "      <td>This keyboard is in great condition and works ...</td>\n",
       "    </tr>\n",
       "    <tr>\n",
       "      <th>1</th>\n",
       "      <td>2</td>\n",
       "      <td>AVA-VIV Blouse</td>\n",
       "      <td>1</td>\n",
       "      <td>Women/Tops &amp; Blouses/Blouse</td>\n",
       "      <td>Target</td>\n",
       "      <td>10.0</td>\n",
       "      <td>1</td>\n",
       "      <td>Adorable top with a hint of lace and a key hol...</td>\n",
       "    </tr>\n",
       "    <tr>\n",
       "      <th>2</th>\n",
       "      <td>3</td>\n",
       "      <td>Leather Horse Statues</td>\n",
       "      <td>1</td>\n",
       "      <td>Home/Home Décor/Home Décor Accents</td>\n",
       "      <td>NaN</td>\n",
       "      <td>35.0</td>\n",
       "      <td>1</td>\n",
       "      <td>New with tags. Leather horses. Retail for [rm]...</td>\n",
       "    </tr>\n",
       "    <tr>\n",
       "      <th>3</th>\n",
       "      <td>4</td>\n",
       "      <td>24K GOLD plated rose</td>\n",
       "      <td>1</td>\n",
       "      <td>Women/Jewelry/Necklaces</td>\n",
       "      <td>NaN</td>\n",
       "      <td>44.0</td>\n",
       "      <td>0</td>\n",
       "      <td>Complete with certificate of authenticity</td>\n",
       "    </tr>\n",
       "    <tr>\n",
       "      <th>4</th>\n",
       "      <td>5</td>\n",
       "      <td>Bundled items requested for Ruie</td>\n",
       "      <td>3</td>\n",
       "      <td>Women/Other/Other</td>\n",
       "      <td>NaN</td>\n",
       "      <td>59.0</td>\n",
       "      <td>0</td>\n",
       "      <td>Banana republic bottoms, Candies skirt with ma...</td>\n",
       "    </tr>\n",
       "  </tbody>\n",
       "</table>\n",
       "</div>"
      ],
      "text/plain": [
       "   train_id                              name  item_condition_id  \\\n",
       "0         1  Razer BlackWidow Chroma Keyboard                  3   \n",
       "1         2                    AVA-VIV Blouse                  1   \n",
       "2         3             Leather Horse Statues                  1   \n",
       "3         4              24K GOLD plated rose                  1   \n",
       "4         5  Bundled items requested for Ruie                  3   \n",
       "\n",
       "                                       category_name brand_name  price  \\\n",
       "0  Electronics/Computers & Tablets/Components & P...      Razer   52.0   \n",
       "1                        Women/Tops & Blouses/Blouse     Target   10.0   \n",
       "2                 Home/Home Décor/Home Décor Accents        NaN   35.0   \n",
       "3                            Women/Jewelry/Necklaces        NaN   44.0   \n",
       "4                                  Women/Other/Other        NaN   59.0   \n",
       "\n",
       "   shipping                                   item_description  \n",
       "0         0  This keyboard is in great condition and works ...  \n",
       "1         1  Adorable top with a hint of lace and a key hol...  \n",
       "2         1  New with tags. Leather horses. Retail for [rm]...  \n",
       "3         0          Complete with certificate of authenticity  \n",
       "4         0  Banana republic bottoms, Candies skirt with ma...  "
      ]
     },
     "execution_count": 4,
     "metadata": {},
     "output_type": "execute_result"
    }
   ],
   "source": [
    "train.head()"
   ]
  },
  {
   "cell_type": "code",
   "execution_count": 5,
   "metadata": {},
   "outputs": [],
   "source": [
    "# define function to clean the category column to create main category and sub categories\n",
    "def split_x(text):\n",
    "    try: return text.split(\"/\")\n",
    "    except: return (\"No Label\", \"No Label\", \"No Label\") "
   ]
  },
  {
   "cell_type": "code",
   "execution_count": 6,
   "metadata": {},
   "outputs": [],
   "source": [
    "# Splitting category name into: Main Category, SubCategory_1, SubCategory_2\n",
    "train_copy['main_category'], train_copy['subcat_1'], train_copy['subcat_2'] = zip(*train_copy['category_name'].apply(lambda x: split_x(x)))"
   ]
  },
  {
   "cell_type": "code",
   "execution_count": 7,
   "metadata": {},
   "outputs": [
    {
     "data": {
      "text/html": [
       "<div>\n",
       "<style scoped>\n",
       "    .dataframe tbody tr th:only-of-type {\n",
       "        vertical-align: middle;\n",
       "    }\n",
       "\n",
       "    .dataframe tbody tr th {\n",
       "        vertical-align: top;\n",
       "    }\n",
       "\n",
       "    .dataframe thead th {\n",
       "        text-align: right;\n",
       "    }\n",
       "</style>\n",
       "<table border=\"1\" class=\"dataframe\">\n",
       "  <thead>\n",
       "    <tr style=\"text-align: right;\">\n",
       "      <th></th>\n",
       "      <th>train_id</th>\n",
       "      <th>name</th>\n",
       "      <th>item_condition_id</th>\n",
       "      <th>category_name</th>\n",
       "      <th>brand_name</th>\n",
       "      <th>price</th>\n",
       "      <th>shipping</th>\n",
       "      <th>item_description</th>\n",
       "      <th>main_category</th>\n",
       "      <th>subcat_1</th>\n",
       "      <th>subcat_2</th>\n",
       "    </tr>\n",
       "  </thead>\n",
       "  <tbody>\n",
       "    <tr>\n",
       "      <th>0</th>\n",
       "      <td>1</td>\n",
       "      <td>Razer BlackWidow Chroma Keyboard</td>\n",
       "      <td>3</td>\n",
       "      <td>Electronics/Computers &amp; Tablets/Components &amp; P...</td>\n",
       "      <td>Razer</td>\n",
       "      <td>52.0</td>\n",
       "      <td>0</td>\n",
       "      <td>This keyboard is in great condition and works ...</td>\n",
       "      <td>Electronics</td>\n",
       "      <td>Computers &amp; Tablets</td>\n",
       "      <td>Components &amp; Parts</td>\n",
       "    </tr>\n",
       "    <tr>\n",
       "      <th>1</th>\n",
       "      <td>2</td>\n",
       "      <td>AVA-VIV Blouse</td>\n",
       "      <td>1</td>\n",
       "      <td>Women/Tops &amp; Blouses/Blouse</td>\n",
       "      <td>Target</td>\n",
       "      <td>10.0</td>\n",
       "      <td>1</td>\n",
       "      <td>Adorable top with a hint of lace and a key hol...</td>\n",
       "      <td>Women</td>\n",
       "      <td>Tops &amp; Blouses</td>\n",
       "      <td>Blouse</td>\n",
       "    </tr>\n",
       "    <tr>\n",
       "      <th>2</th>\n",
       "      <td>3</td>\n",
       "      <td>Leather Horse Statues</td>\n",
       "      <td>1</td>\n",
       "      <td>Home/Home Décor/Home Décor Accents</td>\n",
       "      <td>NaN</td>\n",
       "      <td>35.0</td>\n",
       "      <td>1</td>\n",
       "      <td>New with tags. Leather horses. Retail for [rm]...</td>\n",
       "      <td>Home</td>\n",
       "      <td>Home Décor</td>\n",
       "      <td>Home Décor Accents</td>\n",
       "    </tr>\n",
       "    <tr>\n",
       "      <th>3</th>\n",
       "      <td>4</td>\n",
       "      <td>24K GOLD plated rose</td>\n",
       "      <td>1</td>\n",
       "      <td>Women/Jewelry/Necklaces</td>\n",
       "      <td>NaN</td>\n",
       "      <td>44.0</td>\n",
       "      <td>0</td>\n",
       "      <td>Complete with certificate of authenticity</td>\n",
       "      <td>Women</td>\n",
       "      <td>Jewelry</td>\n",
       "      <td>Necklaces</td>\n",
       "    </tr>\n",
       "    <tr>\n",
       "      <th>4</th>\n",
       "      <td>5</td>\n",
       "      <td>Bundled items requested for Ruie</td>\n",
       "      <td>3</td>\n",
       "      <td>Women/Other/Other</td>\n",
       "      <td>NaN</td>\n",
       "      <td>59.0</td>\n",
       "      <td>0</td>\n",
       "      <td>Banana republic bottoms, Candies skirt with ma...</td>\n",
       "      <td>Women</td>\n",
       "      <td>Other</td>\n",
       "      <td>Other</td>\n",
       "    </tr>\n",
       "  </tbody>\n",
       "</table>\n",
       "</div>"
      ],
      "text/plain": [
       "   train_id                              name  item_condition_id  \\\n",
       "0         1  Razer BlackWidow Chroma Keyboard                  3   \n",
       "1         2                    AVA-VIV Blouse                  1   \n",
       "2         3             Leather Horse Statues                  1   \n",
       "3         4              24K GOLD plated rose                  1   \n",
       "4         5  Bundled items requested for Ruie                  3   \n",
       "\n",
       "                                       category_name brand_name  price  \\\n",
       "0  Electronics/Computers & Tablets/Components & P...      Razer   52.0   \n",
       "1                        Women/Tops & Blouses/Blouse     Target   10.0   \n",
       "2                 Home/Home Décor/Home Décor Accents        NaN   35.0   \n",
       "3                            Women/Jewelry/Necklaces        NaN   44.0   \n",
       "4                                  Women/Other/Other        NaN   59.0   \n",
       "\n",
       "   shipping                                   item_description main_category  \\\n",
       "0         0  This keyboard is in great condition and works ...   Electronics   \n",
       "1         1  Adorable top with a hint of lace and a key hol...         Women   \n",
       "2         1  New with tags. Leather horses. Retail for [rm]...          Home   \n",
       "3         0          Complete with certificate of authenticity         Women   \n",
       "4         0  Banana republic bottoms, Candies skirt with ma...         Women   \n",
       "\n",
       "              subcat_1            subcat_2  \n",
       "0  Computers & Tablets  Components & Parts  \n",
       "1       Tops & Blouses              Blouse  \n",
       "2           Home Décor  Home Décor Accents  \n",
       "3              Jewelry           Necklaces  \n",
       "4                Other               Other  "
      ]
     },
     "execution_count": 7,
     "metadata": {},
     "output_type": "execute_result"
    }
   ],
   "source": [
    "train_copy.head()"
   ]
  },
  {
   "cell_type": "code",
   "execution_count": 10,
   "metadata": {},
   "outputs": [
    {
     "data": {
      "image/png": "[encoded data removed]",
      "text/plain": [
       "<Figure size 432x288 with 1 Axes>"
      ]
     },
     "metadata": {
      "needs_background": "light"
     },
     "output_type": "display_data"
    }
   ],
   "source": [
    "# top categories by price\n",
    "import matplotlib.pyplot as plt\n",
    "new_df=pd.DataFrame(train_copy.groupby('main_category').price.mean()[0:10]).reset_index()\n",
    "plt.bar(new_df[\"main_category\"],new_df[\"price\"])\n",
    "plt.xticks(rotation=30)\n",
    "plt.xlabel(\"Product category\")\n",
    "plt.ylabel(\"Avg Price\")\n",
    "plt.title(\"Top categories by avg price\")\n",
    "plt.box(on=None)"
   ]
  },
  {
   "cell_type": "code",
   "execution_count": 12,
   "metadata": {},
   "outputs": [
    {
     "data": {
      "image/png": "[encoded data removed]",
      "text/plain": [
       "<Figure size 432x288 with 1 Axes>"
      ]
     },
     "metadata": {
      "needs_background": "light"
     },
     "output_type": "display_data"
    }
   ],
   "source": [
    "# top brands by price\n",
    "brands=pd.DataFrame(train_copy.groupby('brand_name').price.mean()[0:10]).reset_index()\n",
    "plt.bar(brands[\"brand_name\"],brands[\"price\"])\n",
    "plt.xticks(rotation=-90)\n",
    "plt.xlabel(\"Brand name\")\n",
    "plt.ylabel(\"Avg Price\")\n",
    "plt.title(\"Top 10 expensive brands\")\n",
    "plt.box(on=None)"
   ]
  },
  {
   "cell_type": "code",
   "execution_count": 19,
   "metadata": {},
   "outputs": [
    {
     "data": {
      "text/plain": [
       "train_id             False\n",
       "name                 False\n",
       "item_condition_id    False\n",
       "category_name         True\n",
       "brand_name            True\n",
       "price                False\n",
       "shipping             False\n",
       "item_description     False\n",
       "main_category        False\n",
       "subcat_1             False\n",
       "subcat_2             False\n",
       "dtype: bool"
      ]
     },
     "execution_count": 19,
     "metadata": {},
     "output_type": "execute_result"
    }
   ],
   "source": [
    "train_copy.isnull().any()"
   ]
  },
  {
   "cell_type": "code",
   "execution_count": 13,
   "metadata": {},
   "outputs": [],
   "source": [
    "# fill missing values in category, brand name, item description, price columns\n",
    "def cleaning(dataset):\n",
    "    dataset.category_name.fillna(value = \"Other/Other/Other\", inplace = True)\n",
    "    dataset.brand_name.fillna(value = \"Unknown brand\", inplace = True)\n",
    "    dataset.item_description.fillna(value = \"No description\", inplace = True)\n",
    "    dataset.price.fillna(value=0,inplace=True)\n",
    "    print(\"missing values replaced in the dataset\")"
   ]
  },
  {
   "cell_type": "code",
   "execution_count": 17,
   "metadata": {},
   "outputs": [
    {
     "data": {
      "image/png": "[encoded data removed]",
      "text/plain": [
       "<Figure size 432x288 with 1 Axes>"
      ]
     },
     "metadata": {
      "needs_background": "light"
     },
     "output_type": "display_data"
    }
   ],
   "source": [
    "# see the distribution of price (target variable)\n",
    "import matplotlib.pyplot as plt\n",
    "plt.hist(train_copy[\"price\"])\n",
    "plt.xlabel(\"Price\", fontsize = 10)\n",
    "plt.ylabel(\"Frequency \", fontsize = 10)\n",
    "plt.title(\"Distribution of price\")\n",
    "plt.box(on=None)\n",
    "plt.show()"
   ]
  },
  {
   "cell_type": "code",
   "execution_count": 18,
   "metadata": {},
   "outputs": [
    {
     "data": {
      "image/png": "[encoded data removed]",
      "text/plain": [
       "<Figure size 432x288 with 1 Axes>"
      ]
     },
     "metadata": {
      "needs_background": "light"
     },
     "output_type": "display_data"
    }
   ],
   "source": [
    "# price has a right skewed distribution \n",
    "# log transform price variable\n",
    "import numpy as np\n",
    "train_copy['price'] = np.log1p(train_copy['price'])\n",
    "plt.hist(train_copy.price)\n",
    "plt.xlabel(\"Log(Price)\", fontsize = 10)\n",
    "plt.ylabel(\"Frequency \", fontsize = 10)\n",
    "plt.box(on=None)"
   ]
  },
  {
   "cell_type": "code",
   "execution_count": 29,
   "metadata": {},
   "outputs": [
    {
     "data": {
      "text/plain": [
       "Text(0.5, 0.98, ' Correlations Heat Map for attributes')"
      ]
     },
     "execution_count": 29,
     "metadata": {},
     "output_type": "execute_result"
    },
    {
     "data": {
      "image/png": "[encoded data removed]",
      "text/plain": [
       "<Figure size 864x720 with 2 Axes>"
      ]
     },
     "metadata": {
      "needs_background": "light"
     },
     "output_type": "display_data"
    }
   ],
   "source": [
    "corr_data=train_copy[[\"shipping\",\"item_condition_id\",\"price\"]]\n",
    "df = pd.get_dummies(corr_data, columns=['item_condition_id'])\n",
    "df1 = pd.get_dummies(df, columns=['shipping'])\n",
    "df1.head()\n",
    "table1=df1.corr()\n",
    "plt.figure(figsize=(12, 10))\n",
    "plt.imshow(table1, cmap='YlGnBu', interpolation='none', aspect='auto')\n",
    "plt.colorbar()\n",
    "plt.xticks(range(len(table1)), table1.columns, rotation='vertical')\n",
    "plt.yticks(range(len(table1)), table1.columns);\n",
    "plt.suptitle(' Correlations Heat Map for attributes', fontsize=16, fontweight='bold')"
   ]
  },
  {
   "cell_type": "code",
   "execution_count": 38,
   "metadata": {},
   "outputs": [
    {
     "data": {
      "image/png": "[encoded data removed]",
      "text/plain": [
       "<Figure size 432x288 with 1 Axes>"
      ]
     },
     "metadata": {
      "needs_background": "light"
     },
     "output_type": "display_data"
    }
   ],
   "source": [
    "items=train_copy.groupby(\"item_condition_id\").price.mean().reset_index()\n",
    "plt.bar(items[\"item_condition_id\"],items[\"price\"])\n",
    "plt.xlabel(\"Item condition rank\", fontsize = 10)\n",
    "plt.ylabel(\"Price\", fontsize = 10)\n",
    "plt.title(\"Price by item condition\")\n",
    "plt.box(on=None)\n",
    "plt.show()"
   ]
  },
  {
   "cell_type": "code",
   "execution_count": 40,
   "metadata": {},
   "outputs": [
    {
     "data": {
      "image/png": "[encoded data removed]",
      "text/plain": [
       "<Figure size 432x288 with 1 Axes>"
      ]
     },
     "metadata": {
      "needs_background": "light"
     },
     "output_type": "display_data"
    }
   ],
   "source": [
    "shipping=train_copy.groupby(\"shipping\").price.mean().reset_index()\n",
    "plt.bar(shipping[\"shipping\"],shipping[\"price\"])\n",
    "plt.xlabel(\"shipping ID\", fontsize = 10)\n",
    "plt.ylabel(\"Price\", fontsize = 10)\n",
    "plt.title(\"Price by shipping\")\n",
    "plt.box(on=None)\n",
    "plt.show()"
   ]
  },
  {
   "cell_type": "code",
   "execution_count": 43,
   "metadata": {},
   "outputs": [
    {
     "data": {
      "text/plain": [
       "train_id              True\n",
       "name                 False\n",
       "item_condition_id    False\n",
       "category_name         True\n",
       "brand_name            True\n",
       "price                 True\n",
       "shipping             False\n",
       "item_description     False\n",
       "test_id               True\n",
       "dtype: bool"
      ]
     },
     "execution_count": 43,
     "metadata": {},
     "output_type": "execute_result"
    }
   ],
   "source": [
    "# merge the train and test data sets\n",
    "merged_data = pd.concat([train,test])\n",
    "merged_data.isnull().any()"
   ]
  },
  {
   "cell_type": "code",
   "execution_count": 44,
   "metadata": {},
   "outputs": [
    {
     "name": "stdout",
     "output_type": "stream",
     "text": [
      "missing values replaced in the dataset\n"
     ]
    }
   ],
   "source": [
    "# clean the merged dataframe - fill missing values\n",
    "cleaning(merged_data)"
   ]
  },
  {
   "cell_type": "code",
   "execution_count": null,
   "metadata": {},
   "outputs": [],
   "source": [
    "# apply the split function to split category name into different sub-categories\n",
    "merged_data['main_category'], merged_data['subcat_1'], merged_data['subcat_2'] = zip(*merged_data['category_name'].apply(lambda x: split_x(x)))"
   ]
  },
  {
   "cell_type": "code",
   "execution_count": 45,
   "metadata": {},
   "outputs": [
    {
     "data": {
      "text/plain": [
       "60000"
      ]
     },
     "execution_count": 45,
     "metadata": {},
     "output_type": "execute_result"
    }
   ],
   "source": [
    "# define size of training set\n",
    "nrow = len(train)\n",
    "nrow"
   ]
  },
  {
   "cell_type": "code",
   "execution_count": 46,
   "metadata": {},
   "outputs": [
    {
     "data": {
      "text/plain": [
       "'!\"#$%&\\'()*+,-./:;<=>?@[\\\\]^_`{|}~'"
      ]
     },
     "execution_count": 46,
     "metadata": {},
     "output_type": "execute_result"
    }
   ],
   "source": [
    "# remove punctuation\n",
    "from string import punctuation\n",
    "punctuation"
   ]
  },
  {
   "cell_type": "code",
   "execution_count": 47,
   "metadata": {},
   "outputs": [],
   "source": [
    "# create function to remove punctuations from input string\n",
    "import string\n",
    "def rmv_punct(sentence: str) -> str:\n",
    "    return sentence.translate(str.maketrans('', '', string.punctuation))"
   ]
  },
  {
   "cell_type": "code",
   "execution_count": 48,
   "metadata": {},
   "outputs": [],
   "source": [
    "# define function to remove numbers \n",
    "def rmv_numbers(x):\n",
    "    x = ''.join([i for i in x if not i.isdigit()])\n",
    "    return x"
   ]
  },
  {
   "cell_type": "code",
   "execution_count": 49,
   "metadata": {},
   "outputs": [],
   "source": [
    "# create a corpus and remove stop words\n",
    "from nltk.corpus import stopwords\n",
    "words = stopwords.words('english')\n",
    "def rmv_stop_words(x):\n",
    "    x = ' '.join([i.lower() for i in x.split(' ') if i not in words])\n",
    "    return x"
   ]
  },
  {
   "cell_type": "code",
   "execution_count": 51,
   "metadata": {},
   "outputs": [
    {
     "data": {
      "text/html": [
       "<div>\n",
       "<style scoped>\n",
       "    .dataframe tbody tr th:only-of-type {\n",
       "        vertical-align: middle;\n",
       "    }\n",
       "\n",
       "    .dataframe tbody tr th {\n",
       "        vertical-align: top;\n",
       "    }\n",
       "\n",
       "    .dataframe thead th {\n",
       "        text-align: right;\n",
       "    }\n",
       "</style>\n",
       "<table border=\"1\" class=\"dataframe\">\n",
       "  <thead>\n",
       "    <tr style=\"text-align: right;\">\n",
       "      <th></th>\n",
       "      <th>train_id</th>\n",
       "      <th>name</th>\n",
       "      <th>item_condition_id</th>\n",
       "      <th>category_name</th>\n",
       "      <th>brand_name</th>\n",
       "      <th>price</th>\n",
       "      <th>shipping</th>\n",
       "      <th>item_description</th>\n",
       "      <th>test_id</th>\n",
       "      <th>main_category</th>\n",
       "      <th>subcat_1</th>\n",
       "      <th>subcat_2</th>\n",
       "    </tr>\n",
       "  </thead>\n",
       "  <tbody>\n",
       "    <tr>\n",
       "      <th>0</th>\n",
       "      <td>1.0</td>\n",
       "      <td>Razer BlackWidow Chroma Keyboard</td>\n",
       "      <td>3</td>\n",
       "      <td>Electronics/Computers &amp; Tablets/Components &amp; P...</td>\n",
       "      <td>Razer</td>\n",
       "      <td>52.0</td>\n",
       "      <td>0</td>\n",
       "      <td>This keyboard is in great condition and works ...</td>\n",
       "      <td>NaN</td>\n",
       "      <td>Electronics</td>\n",
       "      <td>Computers &amp; Tablets</td>\n",
       "      <td>Components &amp; Parts</td>\n",
       "    </tr>\n",
       "    <tr>\n",
       "      <th>1</th>\n",
       "      <td>2.0</td>\n",
       "      <td>AVA-VIV Blouse</td>\n",
       "      <td>1</td>\n",
       "      <td>Women/Tops &amp; Blouses/Blouse</td>\n",
       "      <td>Target</td>\n",
       "      <td>10.0</td>\n",
       "      <td>1</td>\n",
       "      <td>Adorable top with a hint of lace and a key hol...</td>\n",
       "      <td>NaN</td>\n",
       "      <td>Women</td>\n",
       "      <td>Tops &amp; Blouses</td>\n",
       "      <td>Blouse</td>\n",
       "    </tr>\n",
       "    <tr>\n",
       "      <th>2</th>\n",
       "      <td>3.0</td>\n",
       "      <td>Leather Horse Statues</td>\n",
       "      <td>1</td>\n",
       "      <td>Home/Home Décor/Home Décor Accents</td>\n",
       "      <td>Unknown brand</td>\n",
       "      <td>35.0</td>\n",
       "      <td>1</td>\n",
       "      <td>New with tags. Leather horses. Retail for [rm]...</td>\n",
       "      <td>NaN</td>\n",
       "      <td>Home</td>\n",
       "      <td>Home Décor</td>\n",
       "      <td>Home Décor Accents</td>\n",
       "    </tr>\n",
       "    <tr>\n",
       "      <th>3</th>\n",
       "      <td>4.0</td>\n",
       "      <td>24K GOLD plated rose</td>\n",
       "      <td>1</td>\n",
       "      <td>Women/Jewelry/Necklaces</td>\n",
       "      <td>Unknown brand</td>\n",
       "      <td>44.0</td>\n",
       "      <td>0</td>\n",
       "      <td>Complete with certificate of authenticity</td>\n",
       "      <td>NaN</td>\n",
       "      <td>Women</td>\n",
       "      <td>Jewelry</td>\n",
       "      <td>Necklaces</td>\n",
       "    </tr>\n",
       "    <tr>\n",
       "      <th>4</th>\n",
       "      <td>5.0</td>\n",
       "      <td>Bundled items requested for Ruie</td>\n",
       "      <td>3</td>\n",
       "      <td>Women/Other/Other</td>\n",
       "      <td>Unknown brand</td>\n",
       "      <td>59.0</td>\n",
       "      <td>0</td>\n",
       "      <td>Banana republic bottoms, Candies skirt with ma...</td>\n",
       "      <td>NaN</td>\n",
       "      <td>Women</td>\n",
       "      <td>Other</td>\n",
       "      <td>Other</td>\n",
       "    </tr>\n",
       "  </tbody>\n",
       "</table>\n",
       "</div>"
      ],
      "text/plain": [
       "   train_id                              name  item_condition_id  \\\n",
       "0       1.0  Razer BlackWidow Chroma Keyboard                  3   \n",
       "1       2.0                    AVA-VIV Blouse                  1   \n",
       "2       3.0             Leather Horse Statues                  1   \n",
       "3       4.0              24K GOLD plated rose                  1   \n",
       "4       5.0  Bundled items requested for Ruie                  3   \n",
       "\n",
       "                                       category_name     brand_name  price  \\\n",
       "0  Electronics/Computers & Tablets/Components & P...          Razer   52.0   \n",
       "1                        Women/Tops & Blouses/Blouse         Target   10.0   \n",
       "2                 Home/Home Décor/Home Décor Accents  Unknown brand   35.0   \n",
       "3                            Women/Jewelry/Necklaces  Unknown brand   44.0   \n",
       "4                                  Women/Other/Other  Unknown brand   59.0   \n",
       "\n",
       "   shipping                                   item_description  test_id  \\\n",
       "0         0  This keyboard is in great condition and works ...      NaN   \n",
       "1         1  Adorable top with a hint of lace and a key hol...      NaN   \n",
       "2         1  New with tags. Leather horses. Retail for [rm]...      NaN   \n",
       "3         0          Complete with certificate of authenticity      NaN   \n",
       "4         0  Banana republic bottoms, Candies skirt with ma...      NaN   \n",
       "\n",
       "  main_category             subcat_1            subcat_2  \n",
       "0   Electronics  Computers & Tablets  Components & Parts  \n",
       "1         Women       Tops & Blouses              Blouse  \n",
       "2          Home           Home Décor  Home Décor Accents  \n",
       "3         Women              Jewelry           Necklaces  \n",
       "4         Women                Other               Other  "
      ]
     },
     "execution_count": 51,
     "metadata": {},
     "output_type": "execute_result"
    }
   ],
   "source": [
    "merged_data.head()"
   ]
  },
  {
   "cell_type": "code",
   "execution_count": 52,
   "metadata": {},
   "outputs": [
    {
     "data": {
      "text/plain": [
       "Athletic Apparel         10837\n",
       "Makeup                   10168\n",
       "Tops & Blouses            8522\n",
       "Shoes                     8207\n",
       "Jewelry                   5040\n",
       "                         ...  \n",
       "Suits                        8\n",
       "Blazers & Sport Coats        5\n",
       "Candles                      4\n",
       "Books and Zines              4\n",
       "Dolls and Miniatures         2\n",
       "Name: subcat_1, Length: 111, dtype: int64"
      ]
     },
     "execution_count": 52,
     "metadata": {},
     "output_type": "execute_result"
    }
   ],
   "source": [
    "merged_data[\"subcat_1\"].value_counts()"
   ]
  },
  {
   "cell_type": "code",
   "execution_count": 55,
   "metadata": {},
   "outputs": [
    {
     "name": "stderr",
     "output_type": "stream",
     "text": [
      "/opt/anaconda3/lib/python3.7/site-packages/ipykernel_launcher.py:4: SettingWithCopyWarning: \n",
      "A value is trying to be set on a copy of a slice from a DataFrame.\n",
      "Try using .loc[row_indexer,col_indexer] = value instead\n",
      "\n",
      "See the caveats in the documentation: https://pandas.pydata.org/pandas-docs/stable/user_guide/indexing.html#returning-a-view-versus-a-copy\n",
      "  after removing the cwd from sys.path.\n",
      "/opt/anaconda3/lib/python3.7/site-packages/ipykernel_launcher.py:5: SettingWithCopyWarning: \n",
      "A value is trying to be set on a copy of a slice from a DataFrame.\n",
      "Try using .loc[row_indexer,col_indexer] = value instead\n",
      "\n",
      "See the caveats in the documentation: https://pandas.pydata.org/pandas-docs/stable/user_guide/indexing.html#returning-a-view-versus-a-copy\n",
      "  \"\"\"\n",
      "/opt/anaconda3/lib/python3.7/site-packages/ipykernel_launcher.py:6: SettingWithCopyWarning: \n",
      "A value is trying to be set on a copy of a slice from a DataFrame.\n",
      "Try using .loc[row_indexer,col_indexer] = value instead\n",
      "\n",
      "See the caveats in the documentation: https://pandas.pydata.org/pandas-docs/stable/user_guide/indexing.html#returning-a-view-versus-a-copy\n",
      "  \n",
      "/opt/anaconda3/lib/python3.7/site-packages/ipykernel_launcher.py:7: SettingWithCopyWarning: \n",
      "A value is trying to be set on a copy of a slice from a DataFrame.\n",
      "Try using .loc[row_indexer,col_indexer] = value instead\n",
      "\n",
      "See the caveats in the documentation: https://pandas.pydata.org/pandas-docs/stable/user_guide/indexing.html#returning-a-view-versus-a-copy\n",
      "  import sys\n",
      "/opt/anaconda3/lib/python3.7/site-packages/ipykernel_launcher.py:8: SettingWithCopyWarning: \n",
      "A value is trying to be set on a copy of a slice from a DataFrame.\n",
      "Try using .loc[row_indexer,col_indexer] = value instead\n",
      "\n",
      "See the caveats in the documentation: https://pandas.pydata.org/pandas-docs/stable/user_guide/indexing.html#returning-a-view-versus-a-copy\n",
      "  \n",
      "/opt/anaconda3/lib/python3.7/site-packages/ipykernel_launcher.py:9: SettingWithCopyWarning: \n",
      "A value is trying to be set on a copy of a slice from a DataFrame.\n",
      "Try using .loc[row_indexer,col_indexer] = value instead\n",
      "\n",
      "See the caveats in the documentation: https://pandas.pydata.org/pandas-docs/stable/user_guide/indexing.html#returning-a-view-versus-a-copy\n",
      "  if __name__ == '__main__':\n",
      "/opt/anaconda3/lib/python3.7/site-packages/ipykernel_launcher.py:10: SettingWithCopyWarning: \n",
      "A value is trying to be set on a copy of a slice from a DataFrame.\n",
      "Try using .loc[row_indexer,col_indexer] = value instead\n",
      "\n",
      "See the caveats in the documentation: https://pandas.pydata.org/pandas-docs/stable/user_guide/indexing.html#returning-a-view-versus-a-copy\n",
      "  # Remove the CWD from sys.path while we load stuff.\n"
     ]
    },
    {
     "data": {
      "text/html": [
       "<div>\n",
       "<style scoped>\n",
       "    .dataframe tbody tr th:only-of-type {\n",
       "        vertical-align: middle;\n",
       "    }\n",
       "\n",
       "    .dataframe tbody tr th {\n",
       "        vertical-align: top;\n",
       "    }\n",
       "\n",
       "    .dataframe thead th {\n",
       "        text-align: right;\n",
       "    }\n",
       "</style>\n",
       "<table border=\"1\" class=\"dataframe\">\n",
       "  <thead>\n",
       "    <tr style=\"text-align: right;\">\n",
       "      <th></th>\n",
       "      <th>name</th>\n",
       "      <th>item_description</th>\n",
       "      <th>price</th>\n",
       "      <th>count</th>\n",
       "    </tr>\n",
       "  </thead>\n",
       "  <tbody>\n",
       "    <tr>\n",
       "      <th>0</th>\n",
       "      <td>razer blackwidow chroma keyboard</td>\n",
       "      <td>this keyboard great condition works like came ...</td>\n",
       "      <td>52.0</td>\n",
       "      <td>188</td>\n",
       "    </tr>\n",
       "    <tr>\n",
       "      <th>1</th>\n",
       "      <td>avaviv blouse</td>\n",
       "      <td>adorable top hint lace key hole back the pale ...</td>\n",
       "      <td>10.0</td>\n",
       "      <td>124</td>\n",
       "    </tr>\n",
       "    <tr>\n",
       "      <th>2</th>\n",
       "      <td>leather horse statues</td>\n",
       "      <td>new tags leather horses retail rm stand foot h...</td>\n",
       "      <td>35.0</td>\n",
       "      <td>173</td>\n",
       "    </tr>\n",
       "    <tr>\n",
       "      <th>3</th>\n",
       "      <td>k gold plated rose</td>\n",
       "      <td>complete certificate authenticity</td>\n",
       "      <td>44.0</td>\n",
       "      <td>41</td>\n",
       "    </tr>\n",
       "    <tr>\n",
       "      <th>4</th>\n",
       "      <td>bundled items requested ruie</td>\n",
       "      <td>banana republic bottoms candies skirt matching...</td>\n",
       "      <td>59.0</td>\n",
       "      <td>102</td>\n",
       "    </tr>\n",
       "  </tbody>\n",
       "</table>\n",
       "</div>"
      ],
      "text/plain": [
       "                               name  \\\n",
       "0  razer blackwidow chroma keyboard   \n",
       "1                     avaviv blouse   \n",
       "2             leather horse statues   \n",
       "3                k gold plated rose   \n",
       "4      bundled items requested ruie   \n",
       "\n",
       "                                    item_description  price  count  \n",
       "0  this keyboard great condition works like came ...   52.0    188  \n",
       "1  adorable top hint lace key hole back the pale ...   10.0    124  \n",
       "2  new tags leather horses retail rm stand foot h...   35.0    173  \n",
       "3                  complete certificate authenticity   44.0     41  \n",
       "4  banana republic bottoms candies skirt matching...   59.0    102  "
      ]
     },
     "execution_count": 55,
     "metadata": {},
     "output_type": "execute_result"
    }
   ],
   "source": [
    "# extract the description column from the merged_data for stemming\n",
    "merged_data.item_description = merged_data.item_description.astype(str)\n",
    "descr = merged_data[['name','item_description', 'price']]\n",
    "descr['count'] = descr['item_description'].apply(lambda x : len(str(x)))\n",
    "descr['item_description'] = descr['item_description'].apply(rmv_numbers)\n",
    "descr['item_description'] = descr['item_description'].apply(rmv_punct)\n",
    "descr['item_description'] = descr['item_description'].apply(rmv_stop_words)\n",
    "descr['name'] = descr['name'].apply(rmv_numbers)\n",
    "descr['name'] = descr['name'].apply(rmv_punct)\n",
    "descr['name'] = descr['name'].apply(rmv_stop_words)\n",
    "descr.head()"
   ]
  },
  {
   "cell_type": "code",
   "execution_count": 56,
   "metadata": {},
   "outputs": [
    {
     "name": "stderr",
     "output_type": "stream",
     "text": [
      "/opt/anaconda3/lib/python3.7/site-packages/ipykernel_launcher.py:4: SettingWithCopyWarning: \n",
      "A value is trying to be set on a copy of a slice from a DataFrame.\n",
      "Try using .loc[row_indexer,col_indexer] = value instead\n",
      "\n",
      "See the caveats in the documentation: https://pandas.pydata.org/pandas-docs/stable/user_guide/indexing.html#returning-a-view-versus-a-copy\n",
      "  after removing the cwd from sys.path.\n",
      "/opt/anaconda3/lib/python3.7/site-packages/ipykernel_launcher.py:5: SettingWithCopyWarning: \n",
      "A value is trying to be set on a copy of a slice from a DataFrame.\n",
      "Try using .loc[row_indexer,col_indexer] = value instead\n",
      "\n",
      "See the caveats in the documentation: https://pandas.pydata.org/pandas-docs/stable/user_guide/indexing.html#returning-a-view-versus-a-copy\n",
      "  \"\"\"\n"
     ]
    },
    {
     "data": {
      "text/html": [
       "<div>\n",
       "<style scoped>\n",
       "    .dataframe tbody tr th:only-of-type {\n",
       "        vertical-align: middle;\n",
       "    }\n",
       "\n",
       "    .dataframe tbody tr th {\n",
       "        vertical-align: top;\n",
       "    }\n",
       "\n",
       "    .dataframe thead th {\n",
       "        text-align: right;\n",
       "    }\n",
       "</style>\n",
       "<table border=\"1\" class=\"dataframe\">\n",
       "  <thead>\n",
       "    <tr style=\"text-align: right;\">\n",
       "      <th></th>\n",
       "      <th>name</th>\n",
       "      <th>item_description</th>\n",
       "      <th>price</th>\n",
       "      <th>count</th>\n",
       "    </tr>\n",
       "  </thead>\n",
       "  <tbody>\n",
       "    <tr>\n",
       "      <th>0</th>\n",
       "      <td>razer blackwidow chroma keyboard</td>\n",
       "      <td>this keyboard great condition works like came ...</td>\n",
       "      <td>52.0</td>\n",
       "      <td>188</td>\n",
       "    </tr>\n",
       "    <tr>\n",
       "      <th>1</th>\n",
       "      <td>avaviv blous</td>\n",
       "      <td>adorable top hint lace key hole back the pale ...</td>\n",
       "      <td>10.0</td>\n",
       "      <td>124</td>\n",
       "    </tr>\n",
       "    <tr>\n",
       "      <th>2</th>\n",
       "      <td>leather horse statu</td>\n",
       "      <td>new tags leather horses retail rm stand foot h...</td>\n",
       "      <td>35.0</td>\n",
       "      <td>173</td>\n",
       "    </tr>\n",
       "    <tr>\n",
       "      <th>3</th>\n",
       "      <td>k gold plated ros</td>\n",
       "      <td>complete certificate authent</td>\n",
       "      <td>44.0</td>\n",
       "      <td>41</td>\n",
       "    </tr>\n",
       "    <tr>\n",
       "      <th>4</th>\n",
       "      <td>bundled items requested rui</td>\n",
       "      <td>banana republic bottoms candies skirt matching...</td>\n",
       "      <td>59.0</td>\n",
       "      <td>102</td>\n",
       "    </tr>\n",
       "  </tbody>\n",
       "</table>\n",
       "</div>"
      ],
      "text/plain": [
       "                               name  \\\n",
       "0  razer blackwidow chroma keyboard   \n",
       "1                      avaviv blous   \n",
       "2               leather horse statu   \n",
       "3                 k gold plated ros   \n",
       "4       bundled items requested rui   \n",
       "\n",
       "                                    item_description  price  count  \n",
       "0  this keyboard great condition works like came ...   52.0    188  \n",
       "1  adorable top hint lace key hole back the pale ...   10.0    124  \n",
       "2  new tags leather horses retail rm stand foot h...   35.0    173  \n",
       "3                       complete certificate authent   44.0     41  \n",
       "4  banana republic bottoms candies skirt matching...   59.0    102  "
      ]
     },
     "execution_count": 56,
     "metadata": {},
     "output_type": "execute_result"
    }
   ],
   "source": [
    "# STEMMING: use porterstemmer to stem the words within description\n",
    "from nltk.stem.porter import PorterStemmer\n",
    "porter = PorterStemmer()\n",
    "descr['item_description'] = descr['item_description'].apply(porter.stem)\n",
    "descr['name'] = descr['name'].apply(porter.stem)\n",
    "descr.head()"
   ]
  },
  {
   "cell_type": "code",
   "execution_count": 57,
   "metadata": {},
   "outputs": [
    {
     "data": {
      "text/plain": [
       "train_id              True\n",
       "name                 False\n",
       "item_condition_id    False\n",
       "category_name        False\n",
       "brand_name           False\n",
       "price                False\n",
       "shipping             False\n",
       "item_description     False\n",
       "test_id               True\n",
       "main_category        False\n",
       "subcat_1             False\n",
       "subcat_2             False\n",
       "dtype: bool"
      ]
     },
     "execution_count": 57,
     "metadata": {},
     "output_type": "execute_result"
    }
   ],
   "source": [
    "# final check for missing values\n",
    "merged_data.isnull().any()"
   ]
  },
  {
   "cell_type": "code",
   "execution_count": 58,
   "metadata": {},
   "outputs": [],
   "source": [
    "from sklearn.feature_extraction.text import CountVectorizer, TfidfVectorizer\n",
    "from sklearn.preprocessing import LabelBinarizer"
   ]
  },
  {
   "cell_type": "code",
   "execution_count": 64,
   "metadata": {},
   "outputs": [
    {
     "data": {
      "text/plain": [
       "0    razer blackwidow chroma keyboard\n",
       "1                        avaviv blous\n",
       "2                 leather horse statu\n",
       "3                   k gold plated ros\n",
       "4         bundled items requested rui\n",
       "Name: name, dtype: object"
      ]
     },
     "execution_count": 64,
     "metadata": {},
     "output_type": "execute_result"
    }
   ],
   "source": [
    "descr[\"name\"][0:5]"
   ]
  },
  {
   "cell_type": "code",
   "execution_count": 66,
   "metadata": {},
   "outputs": [],
   "source": [
    "# Feature extraction and transformation\n",
    "# Apply Count Vectorizer to \"name\", this converts it into a sparse matrix of counts\n",
    "tv = TfidfVectorizer(max_features=55000, ngram_range=(1, 2), stop_words='english')\n",
    "X_name = tv.fit_transform(descr['name'])"
   ]
  },
  {
   "cell_type": "code",
   "execution_count": 90,
   "metadata": {},
   "outputs": [
    {
     "name": "stdout",
     "output_type": "stream",
     "text": [
      "  (0, 263)\t1\n",
      "  (0, 189)\t1\n",
      "  (0, 759)\t1\n",
      "  (0, 188)\t1\n",
      "  (0, 534)\t1\n",
      "  (1, 864)\t1\n",
      "  (1, 795)\t1\n",
      "  (1, 81)\t1\n",
      "  (1, 80)\t1\n",
      "  (2, 371)\t3\n",
      "  (2, 255)\t2\n",
      "  (2, 7)\t1\n"
     ]
    }
   ],
   "source": [
    "# Apply Count Vectorizer to \"category_name\", this converts it into a sparse matrix of category word counts\n",
    "cv = CountVectorizer()\n",
    "X_category = cv.fit_transform(merged_data['category_name'])"
   ]
  },
  {
   "cell_type": "code",
   "execution_count": 68,
   "metadata": {},
   "outputs": [],
   "source": [
    "# Apply TFIDF to \"item_description\", this converts item descriptions into frequency counts using tfidf \n",
    "tv = TfidfVectorizer(max_features=55000, ngram_range=(1, 2), stop_words='english')\n",
    "X_description = tv.fit_transform(descr['item_description'])"
   ]
  },
  {
   "cell_type": "code",
   "execution_count": 69,
   "metadata": {},
   "outputs": [],
   "source": [
    "# Apply LabelBinarizer to \"brand_name\", converts brand names into discreet codes\n",
    "lb = LabelBinarizer(sparse_output=True)\n",
    "X_brand = lb.fit_transform(merged_data['brand_name'])"
   ]
  },
  {
   "cell_type": "code",
   "execution_count": 70,
   "metadata": {},
   "outputs": [],
   "source": [
    "# create dummy variables for item condition and shipping columns\n",
    "from scipy.sparse import vstack, hstack, csr_matrix\n",
    "X_dummies = csr_matrix(pd.get_dummies(merged_data[['item_condition_id', 'shipping']], sparse=True).values)"
   ]
  },
  {
   "cell_type": "code",
   "execution_count": 71,
   "metadata": {},
   "outputs": [],
   "source": [
    "# merge the matrices to create a csr matrix\n",
    "mercari_final = hstack((X_dummies, X_description, X_brand, X_category, X_name)).tocsr()"
   ]
  },
  {
   "cell_type": "code",
   "execution_count": 72,
   "metadata": {},
   "outputs": [
    {
     "name": "stdout",
     "output_type": "stream",
     "text": [
      "(60000, 113099)\n",
      "(60000, 113099)\n",
      "(60000,)\n"
     ]
    }
   ],
   "source": [
    "# split the data into test and train sets\n",
    "nrow=len(train)\n",
    "X_train_sparse = mercari_final[:nrow]\n",
    "X_test = mercari_final[nrow:]\n",
    "y_train = np.log1p(train[\"price\"])\n",
    "print(X_train_sparse.shape)\n",
    "print(X_test.shape)\n",
    "print(y_train.shape)"
   ]
  },
  {
   "cell_type": "code",
   "execution_count": 96,
   "metadata": {},
   "outputs": [],
   "source": [
    "# Model 1: RIDGE REGRESSION\n",
    "from sklearn.linear_model import Ridge, LogisticRegression\n",
    "from sklearn.model_selection import train_test_split, cross_val_score\n",
    "model = Ridge(solver = \"lsqr\", fit_intercept=False)"
   ]
  },
  {
   "cell_type": "code",
   "execution_count": 97,
   "metadata": {},
   "outputs": [
    {
     "data": {
      "text/plain": [
       "Ridge(alpha=1.0, copy_X=True, fit_intercept=False, max_iter=None,\n",
       "      normalize=False, random_state=None, solver='lsqr', tol=0.001)"
      ]
     },
     "execution_count": 97,
     "metadata": {},
     "output_type": "execute_result"
    }
   ],
   "source": [
    "# Train the model using training data\n",
    "model.fit(X_train_sparse, y_train)"
   ]
  },
  {
   "cell_type": "code",
   "execution_count": 98,
   "metadata": {},
   "outputs": [
    {
     "data": {
      "text/plain": [
       "array([2.97823108, 3.1437732 , 3.05791266, ..., 3.64640855, 3.73403854,\n",
       "       3.46138198])"
      ]
     },
     "execution_count": 98,
     "metadata": {},
     "output_type": "execute_result"
    }
   ],
   "source": [
    "# Make predictions using RIDGE regression\n",
    "predictions = model.predict(X_test)\n",
    "predictions"
   ]
  },
  {
   "cell_type": "code",
   "execution_count": 99,
   "metadata": {},
   "outputs": [
    {
     "data": {
      "text/plain": [
       "array([18.6530213 , 22.19120708, 20.28308571, ..., 37.33673391,\n",
       "       40.84777114, 30.86097738])"
      ]
     },
     "execution_count": 99,
     "metadata": {},
     "output_type": "execute_result"
    }
   ],
   "source": [
    "# take a inverse of the log on predictions to get actual prices\n",
    "ridge_predictions=np.expm1(predictions)\n",
    "ridge_predictions"
   ]
  },
  {
   "cell_type": "code",
   "execution_count": 100,
   "metadata": {},
   "outputs": [],
   "source": [
    "# Model 2 : LGBM regressor\n",
    "import lightgbm as lgb\n",
    "model2 = lgb.LGBMRegressor()"
   ]
  },
  {
   "cell_type": "code",
   "execution_count": 101,
   "metadata": {},
   "outputs": [
    {
     "name": "stdout",
     "output_type": "stream",
     "text": [
      "Fitting Model -------------------------------------\n"
     ]
    },
    {
     "data": {
      "text/plain": [
       "LGBMRegressor(boosting_type='gbdt', class_weight=None, colsample_bytree=1.0,\n",
       "              importance_type='split', learning_rate=0.1, max_depth=-1,\n",
       "              min_child_samples=20, min_child_weight=0.001, min_split_gain=0.0,\n",
       "              n_estimators=100, n_jobs=-1, num_leaves=31, objective=None,\n",
       "              random_state=None, reg_alpha=0.0, reg_lambda=0.0, silent=True,\n",
       "              subsample=1.0, subsample_for_bin=200000, subsample_freq=0)"
      ]
     },
     "execution_count": 101,
     "metadata": {},
     "output_type": "execute_result"
    }
   ],
   "source": [
    "print(\"Fitting Model -------------------------------------\")\n",
    "model2.fit(X_train_sparse, y_train)"
   ]
  },
  {
   "cell_type": "code",
   "execution_count": 102,
   "metadata": {},
   "outputs": [
    {
     "data": {
      "text/plain": [
       "array([3.23610769, 3.11793449, 2.92292175, ..., 3.68514774, 3.37059794,\n",
       "       3.45948237])"
      ]
     },
     "execution_count": 102,
     "metadata": {},
     "output_type": "execute_result"
    }
   ],
   "source": [
    "# Make predcitions using LGBM regressor\n",
    "predictions2 = model2.predict(X_test)\n",
    "predictions2"
   ]
  },
  {
   "cell_type": "code",
   "execution_count": 103,
   "metadata": {},
   "outputs": [
    {
     "data": {
      "text/plain": [
       "array([24.43452978, 21.59965153, 17.59553963, ..., 38.85100976,\n",
       "       28.09591945, 30.80051136])"
      ]
     },
     "execution_count": 103,
     "metadata": {},
     "output_type": "execute_result"
    }
   ],
   "source": [
    "# make predictions using LGBM regressor\n",
    "LGBM_preds=np.expm1(predictions2)\n",
    "LGBM_preds"
   ]
  },
  {
   "cell_type": "code",
   "execution_count": 104,
   "metadata": {},
   "outputs": [],
   "source": [
    "# Model 2: LGBM with parameter tuning\n",
    "params = {\n",
    "    'learning_rate': 0.15,\n",
    "    'application': 'regression',\n",
    "    'max_depth': 13,\n",
    "    'num_leaves': 400,\n",
    "    'verbosity': -1,\n",
    "    'data_random_seed': 1,\n",
    "    'bagging_fraction': 0.8,\n",
    "    'feature_fraction': 0.6,\n",
    "    'nthread': 4,\n",
    "    'lambda_l1': 10,\n",
    "    'lambda_l2': 10\n",
    "}\n",
    "mercari_model = lgb.train(params, train_set=lgb.Dataset(X_train_sparse, y_train), num_boost_round=1800,  \\\n",
    "    verbose_eval=100) "
   ]
  },
  {
   "cell_type": "code",
   "execution_count": 105,
   "metadata": {},
   "outputs": [],
   "source": [
    "# make predictions using the ne LGBM model with custom parameters\n",
    "predictions3 = mercari_model.predict(X_test)\n",
    "LGBM2_prices=np.expm1(predictions3)"
   ]
  },
  {
   "cell_type": "code",
   "execution_count": 106,
   "metadata": {},
   "outputs": [
    {
     "data": {
      "text/plain": [
       "array([26.06626578, 23.64275297, 16.91856795, ..., 47.36642394,\n",
       "       24.51863093, 37.74260783])"
      ]
     },
     "execution_count": 106,
     "metadata": {},
     "output_type": "execute_result"
    }
   ],
   "source": [
    "LGBM2_prices"
   ]
  },
  {
   "cell_type": "code",
   "execution_count": 107,
   "metadata": {},
   "outputs": [],
   "source": [
    "from sklearn.metrics import mean_squared_error, mean_squared_log_error, r2_score\n",
    "real_prices=pd.read_csv(\"mercari_test_new.csv\")[\"price\"]\n",
    "MSE_RIDGE = mean_squared_log_error(real_prices,ridge_predictions)\n",
    "MSE_LGBM= mean_squared_log_error(real_prices,LGBM_preds)\n",
    "MSE_LGBM_withParams= mean_squared_log_error(real_prices,LGBM2_prices)"
   ]
  },
  {
   "cell_type": "code",
   "execution_count": 108,
   "metadata": {},
   "outputs": [],
   "source": [
    "test['main_category'], test['subcat_1'], test['subcat_2'] = zip(*test['category_name'].apply(lambda x: split_x(x)))"
   ]
  },
  {
   "cell_type": "code",
   "execution_count": 109,
   "metadata": {},
   "outputs": [
    {
     "data": {
      "text/html": [
       "<div>\n",
       "<style scoped>\n",
       "    .dataframe tbody tr th:only-of-type {\n",
       "        vertical-align: middle;\n",
       "    }\n",
       "\n",
       "    .dataframe tbody tr th {\n",
       "        vertical-align: top;\n",
       "    }\n",
       "\n",
       "    .dataframe thead th {\n",
       "        text-align: right;\n",
       "    }\n",
       "</style>\n",
       "<table border=\"1\" class=\"dataframe\">\n",
       "  <thead>\n",
       "    <tr style=\"text-align: right;\">\n",
       "      <th></th>\n",
       "      <th>test_id</th>\n",
       "      <th>name</th>\n",
       "      <th>item_condition_id</th>\n",
       "      <th>category_name</th>\n",
       "      <th>brand_name</th>\n",
       "      <th>shipping</th>\n",
       "      <th>item_description</th>\n",
       "      <th>main_category</th>\n",
       "      <th>subcat_1</th>\n",
       "      <th>subcat_2</th>\n",
       "    </tr>\n",
       "  </thead>\n",
       "  <tbody>\n",
       "    <tr>\n",
       "      <th>0</th>\n",
       "      <td>1</td>\n",
       "      <td>Small Workout Set Leggins Tights Crop</td>\n",
       "      <td>2</td>\n",
       "      <td>Women/Athletic Apparel/Pants, Tights, Leggings</td>\n",
       "      <td>NaN</td>\n",
       "      <td>0</td>\n",
       "      <td>This listing is for a small workout set: - one...</td>\n",
       "      <td>Women</td>\n",
       "      <td>Athletic Apparel</td>\n",
       "      <td>Pants, Tights, Leggings</td>\n",
       "    </tr>\n",
       "    <tr>\n",
       "      <th>1</th>\n",
       "      <td>2</td>\n",
       "      <td>Lululemon Athletica Tank Size S</td>\n",
       "      <td>3</td>\n",
       "      <td>Women/Tops &amp; Blouses/Tank, Cami</td>\n",
       "      <td>Lululemon</td>\n",
       "      <td>0</td>\n",
       "      <td>Lululemon Athletica Tank Size S</td>\n",
       "      <td>Women</td>\n",
       "      <td>Tops &amp; Blouses</td>\n",
       "      <td>Tank, Cami</td>\n",
       "    </tr>\n",
       "    <tr>\n",
       "      <th>2</th>\n",
       "      <td>3</td>\n",
       "      <td>New flashcards</td>\n",
       "      <td>1</td>\n",
       "      <td>Other/Books/Education &amp; Teaching</td>\n",
       "      <td>NaN</td>\n",
       "      <td>0</td>\n",
       "      <td>Brand new in package. Multiplication and divis...</td>\n",
       "      <td>Other</td>\n",
       "      <td>Books</td>\n",
       "      <td>Education &amp; Teaching</td>\n",
       "    </tr>\n",
       "    <tr>\n",
       "      <th>3</th>\n",
       "      <td>4</td>\n",
       "      <td>3 pairs of 4T Disney pjs</td>\n",
       "      <td>3</td>\n",
       "      <td>Kids/Girls 2T-5T/Other</td>\n",
       "      <td>Disney</td>\n",
       "      <td>0</td>\n",
       "      <td>3 pairs of size 4T Disney 2 piece pajamas. Sof...</td>\n",
       "      <td>Kids</td>\n",
       "      <td>Girls 2T-5T</td>\n",
       "      <td>Other</td>\n",
       "    </tr>\n",
       "    <tr>\n",
       "      <th>4</th>\n",
       "      <td>5</td>\n",
       "      <td>20 piece lashes</td>\n",
       "      <td>1</td>\n",
       "      <td>Beauty/Makeup/Eyes</td>\n",
       "      <td>NaN</td>\n",
       "      <td>1</td>\n",
       "      <td>Total of 20 piece lashes 10 long dramatic lash...</td>\n",
       "      <td>Beauty</td>\n",
       "      <td>Makeup</td>\n",
       "      <td>Eyes</td>\n",
       "    </tr>\n",
       "  </tbody>\n",
       "</table>\n",
       "</div>"
      ],
      "text/plain": [
       "   test_id                                   name  item_condition_id  \\\n",
       "0        1  Small Workout Set Leggins Tights Crop                  2   \n",
       "1        2        Lululemon Athletica Tank Size S                  3   \n",
       "2        3                         New flashcards                  1   \n",
       "3        4               3 pairs of 4T Disney pjs                  3   \n",
       "4        5                        20 piece lashes                  1   \n",
       "\n",
       "                                    category_name brand_name  shipping  \\\n",
       "0  Women/Athletic Apparel/Pants, Tights, Leggings        NaN         0   \n",
       "1                 Women/Tops & Blouses/Tank, Cami  Lululemon         0   \n",
       "2                Other/Books/Education & Teaching        NaN         0   \n",
       "3                          Kids/Girls 2T-5T/Other     Disney         0   \n",
       "4                              Beauty/Makeup/Eyes        NaN         1   \n",
       "\n",
       "                                    item_description main_category  \\\n",
       "0  This listing is for a small workout set: - one...         Women   \n",
       "1                    Lululemon Athletica Tank Size S         Women   \n",
       "2  Brand new in package. Multiplication and divis...         Other   \n",
       "3  3 pairs of size 4T Disney 2 piece pajamas. Sof...          Kids   \n",
       "4  Total of 20 piece lashes 10 long dramatic lash...        Beauty   \n",
       "\n",
       "           subcat_1                 subcat_2  \n",
       "0  Athletic Apparel  Pants, Tights, Leggings  \n",
       "1    Tops & Blouses               Tank, Cami  \n",
       "2             Books     Education & Teaching  \n",
       "3       Girls 2T-5T                    Other  \n",
       "4            Makeup                     Eyes  "
      ]
     },
     "execution_count": 109,
     "metadata": {},
     "output_type": "execute_result"
    }
   ],
   "source": [
    "test.head()"
   ]
  },
  {
   "cell_type": "code",
   "execution_count": 110,
   "metadata": {},
   "outputs": [
    {
     "name": "stderr",
     "output_type": "stream",
     "text": [
      "/opt/anaconda3/lib/python3.7/site-packages/ipykernel_launcher.py:5: SettingWithCopyWarning: \n",
      "A value is trying to be set on a copy of a slice from a DataFrame.\n",
      "Try using .loc[row_indexer,col_indexer] = value instead\n",
      "\n",
      "See the caveats in the documentation: https://pandas.pydata.org/pandas-docs/stable/user_guide/indexing.html#returning-a-view-versus-a-copy\n",
      "  \"\"\"\n",
      "/opt/anaconda3/lib/python3.7/site-packages/ipykernel_launcher.py:6: SettingWithCopyWarning: \n",
      "A value is trying to be set on a copy of a slice from a DataFrame.\n",
      "Try using .loc[row_indexer,col_indexer] = value instead\n",
      "\n",
      "See the caveats in the documentation: https://pandas.pydata.org/pandas-docs/stable/user_guide/indexing.html#returning-a-view-versus-a-copy\n",
      "  \n"
     ]
    },
    {
     "data": {
      "text/html": [
       "<div>\n",
       "<style scoped>\n",
       "    .dataframe tbody tr th:only-of-type {\n",
       "        vertical-align: middle;\n",
       "    }\n",
       "\n",
       "    .dataframe tbody tr th {\n",
       "        vertical-align: top;\n",
       "    }\n",
       "\n",
       "    .dataframe thead th {\n",
       "        text-align: right;\n",
       "    }\n",
       "</style>\n",
       "<table border=\"1\" class=\"dataframe\">\n",
       "  <thead>\n",
       "    <tr style=\"text-align: right;\">\n",
       "      <th></th>\n",
       "      <th>test_id</th>\n",
       "      <th>name</th>\n",
       "      <th>brand_name</th>\n",
       "      <th>main_category</th>\n",
       "      <th>LGBM2_predictions</th>\n",
       "      <th>Actual_prices</th>\n",
       "    </tr>\n",
       "  </thead>\n",
       "  <tbody>\n",
       "    <tr>\n",
       "      <th>0</th>\n",
       "      <td>1</td>\n",
       "      <td>Small Workout Set Leggins Tights Crop</td>\n",
       "      <td>NaN</td>\n",
       "      <td>Women</td>\n",
       "      <td>26.07</td>\n",
       "      <td>10.00</td>\n",
       "    </tr>\n",
       "    <tr>\n",
       "      <th>1</th>\n",
       "      <td>2</td>\n",
       "      <td>Lululemon Athletica Tank Size S</td>\n",
       "      <td>Lululemon</td>\n",
       "      <td>Women</td>\n",
       "      <td>23.64</td>\n",
       "      <td>14.00</td>\n",
       "    </tr>\n",
       "    <tr>\n",
       "      <th>2</th>\n",
       "      <td>3</td>\n",
       "      <td>New flashcards</td>\n",
       "      <td>NaN</td>\n",
       "      <td>Other</td>\n",
       "      <td>16.92</td>\n",
       "      <td>11.00</td>\n",
       "    </tr>\n",
       "    <tr>\n",
       "      <th>3</th>\n",
       "      <td>4</td>\n",
       "      <td>3 pairs of 4T Disney pjs</td>\n",
       "      <td>Disney</td>\n",
       "      <td>Kids</td>\n",
       "      <td>14.52</td>\n",
       "      <td>11.00</td>\n",
       "    </tr>\n",
       "    <tr>\n",
       "      <th>4</th>\n",
       "      <td>5</td>\n",
       "      <td>20 piece lashes</td>\n",
       "      <td>NaN</td>\n",
       "      <td>Beauty</td>\n",
       "      <td>10.51</td>\n",
       "      <td>18.00</td>\n",
       "    </tr>\n",
       "    <tr>\n",
       "      <th>5</th>\n",
       "      <td>6</td>\n",
       "      <td>iPhone 6/6S clear crystal hard back case</td>\n",
       "      <td>NaN</td>\n",
       "      <td>Electronics</td>\n",
       "      <td>8.87</td>\n",
       "      <td>8.00</td>\n",
       "    </tr>\n",
       "    <tr>\n",
       "      <th>6</th>\n",
       "      <td>7</td>\n",
       "      <td>NWT LULAROE OS GEOMETRIC *UNICORN*</td>\n",
       "      <td>NaN</td>\n",
       "      <td>Women</td>\n",
       "      <td>38.67</td>\n",
       "      <td>35.00</td>\n",
       "    </tr>\n",
       "    <tr>\n",
       "      <th>7</th>\n",
       "      <td>8</td>\n",
       "      <td>LuLaRoe OS legging euc</td>\n",
       "      <td>LuLaRoe</td>\n",
       "      <td>Women</td>\n",
       "      <td>26.13</td>\n",
       "      <td>22.00</td>\n",
       "    </tr>\n",
       "    <tr>\n",
       "      <th>8</th>\n",
       "      <td>9</td>\n",
       "      <td>Merona polka dot blouse</td>\n",
       "      <td>Merona</td>\n",
       "      <td>Women</td>\n",
       "      <td>10.98</td>\n",
       "      <td>8.00</td>\n",
       "    </tr>\n",
       "    <tr>\n",
       "      <th>9</th>\n",
       "      <td>10</td>\n",
       "      <td>2008-09 Fleer Michael Jordan insert</td>\n",
       "      <td>NBA</td>\n",
       "      <td>Vintage &amp; Collectibles</td>\n",
       "      <td>5.73</td>\n",
       "      <td>3.00</td>\n",
       "    </tr>\n",
       "  </tbody>\n",
       "</table>\n",
       "</div>"
      ],
      "text/plain": [
       "   test_id                                      name brand_name  \\\n",
       "0        1     Small Workout Set Leggins Tights Crop        NaN   \n",
       "1        2           Lululemon Athletica Tank Size S  Lululemon   \n",
       "2        3                            New flashcards        NaN   \n",
       "3        4                  3 pairs of 4T Disney pjs     Disney   \n",
       "4        5                           20 piece lashes        NaN   \n",
       "5        6  iPhone 6/6S clear crystal hard back case        NaN   \n",
       "6        7        NWT LULAROE OS GEOMETRIC *UNICORN*        NaN   \n",
       "7        8                    LuLaRoe OS legging euc    LuLaRoe   \n",
       "8        9                   Merona polka dot blouse     Merona   \n",
       "9       10       2008-09 Fleer Michael Jordan insert        NBA   \n",
       "\n",
       "            main_category  LGBM2_predictions  Actual_prices  \n",
       "0                   Women              26.07          10.00  \n",
       "1                   Women              23.64          14.00  \n",
       "2                   Other              16.92          11.00  \n",
       "3                    Kids              14.52          11.00  \n",
       "4                  Beauty              10.51          18.00  \n",
       "5             Electronics               8.87           8.00  \n",
       "6                   Women              38.67          35.00  \n",
       "7                   Women              26.13          22.00  \n",
       "8                   Women              10.98           8.00  \n",
       "9  Vintage & Collectibles               5.73           3.00  "
      ]
     },
     "execution_count": 110,
     "metadata": {},
     "output_type": "execute_result"
    }
   ],
   "source": [
    "# comparison of predictions from the models\n",
    "prices=test[[\"test_id\",\"name\",\"brand_name\",\"main_category\"]]\n",
    "#prices[\"RIDGE_prices\"]=ridge_predictions\n",
    "#prices[\"LGBM_prices\"]=LGBM_preds\n",
    "prices[\"LGBM2_predictions\"]=LGBM2_prices\n",
    "prices[\"Actual_prices\"]=real_prices\n",
    "pd.options.display.float_format = '{:,.2f}'.format\n",
    "prices.head(n=10)"
   ]
  },
  {
   "cell_type": "code",
   "execution_count": 111,
   "metadata": {},
   "outputs": [
    {
     "name": "stdout",
     "output_type": "stream",
     "text": [
      "MSE from Model 1- Ridge regression: 0.2789\n",
      "MSE from Model 2- LGBM Regressor : 0.3008\n",
      "MSE from Model 3- LGBM Regressor with params : 0.2765\n"
     ]
    }
   ],
   "source": [
    "# Root mean squared log error of the models\n",
    "# Target RMSLE = 0.30\n",
    "print(\"MSE from Model 1- Ridge regression: \" + str(round(MSE_RIDGE,4)))\n",
    "print(\"MSE from Model 2- LGBM Regressor : \" + str(round(MSE_LGBM,4)))\n",
    "print(\"MSE from Model 3- LGBM Regressor with params : \" + str(round(MSE_LGBM_withParams,4)))"
   ]
  },
  {
   "cell_type": "code",
   "execution_count": null,
   "metadata": {},
   "outputs": [],
   "source": []
  },
  {
   "cell_type": "code",
   "execution_count": null,
   "metadata": {},
   "outputs": [],
   "source": []
  }
 ],
 "metadata": {
  "kernelspec": {
   "display_name": "Python 3",
   "language": "python",
   "name": "python3"
  },
  "language_info": {
   "codemirror_mode": {
    "name": "ipython",
    "version": 3
   },
   "file_extension": ".py",
   "mimetype": "text/x-python",
   "name": "python",
   "nbconvert_exporter": "python",
   "pygments_lexer": "ipython3",
   "version": "3.7.6"
  }
 },
 "nbformat": 4,
 "nbformat_minor": 4
}
